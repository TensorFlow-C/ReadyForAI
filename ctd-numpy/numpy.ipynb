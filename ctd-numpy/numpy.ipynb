{
  "nbformat": 4,
  "nbformat_minor": 0,
  "metadata": {
    "colab": {
      "name": "numpy.ipynb",
      "provenance": [],
      "collapsed_sections": [],
      "authorship_tag": "ABX9TyOKfEafVha8iqY/hVPJqlcb",
      "include_colab_link": true
    },
    "kernelspec": {
      "name": "python3",
      "display_name": "Python 3"
    },
    "language_info": {
      "name": "python"
    }
  },
  "cells": [
    {
      "cell_type": "markdown",
      "metadata": {
        "id": "view-in-github",
        "colab_type": "text"
      },
      "source": [
        "<a href=\"https://colab.research.google.com/github/zhoujiuzhou9/ReadyForAI/blob/main/numpy.ipynb\" target=\"_parent\"><img src=\"https://colab.research.google.com/assets/colab-badge.svg\" alt=\"Open In Colab\"/></a>"
      ]
    },
    {
      "cell_type": "code",
      "execution_count": 2,
      "metadata": {
        "colab": {
          "base_uri": "https://localhost:8080/"
        },
        "id": "2R_Mc3yK2Mgj",
        "outputId": "1f804c74-e0b6-40b4-e213-d4fde42ce50c"
      },
      "outputs": [
        {
          "output_type": "stream",
          "name": "stdout",
          "text": [
            "0    NaN\n",
            "1    1.0\n",
            "2    2.0\n",
            "3    2.0\n",
            "4    3.0\n",
            "dtype: float64\n"
          ]
        }
      ],
      "source": [
        "import pandas as pd\n",
        "import numpy as np\n",
        "import matplotlib.pyplot as plt\n",
        "\n",
        "s = pd.Series([np.nan, 1, 2, np.nan, 3])\n",
        "s = s.fillna(method='ffill')\n",
        "\n",
        "print(s)"
      ]
    },
    {
      "cell_type": "code",
      "source": [
        "plt.subplot(2, 3, 3)"
      ],
      "metadata": {
        "colab": {
          "base_uri": "https://localhost:8080/",
          "height": 169
        },
        "id": "572T95RF_5cc",
        "outputId": "aacd26e5-134c-4cef-d20a-7dd2730e06bf"
      },
      "execution_count": null,
      "outputs": [
        {
          "output_type": "execute_result",
          "data": {
            "text/plain": [
              "<matplotlib.axes._subplots.AxesSubplot at 0x7f86ff7415d0>"
            ]
          },
          "metadata": {},
          "execution_count": 18
        },
        {
          "output_type": "display_data",
          "data": {
            "text/plain": [
              "<Figure size 432x288 with 1 Axes>"
            ],
            "image/png": "[encoded data removed]"
          },
          "metadata": {
            "needs_background": "light"
          }
        }
      ]
    },
    {
      "cell_type": "code",
      "source": [
        "# 默认为浮点数\n",
        "x = np.zeros(5) \n",
        "print(x)\n",
        " \n",
        "# 设置类型为整数\n",
        "y = np.zeros((5,), dtype = int) \n",
        "print(y)\n",
        " \n",
        "# 自定义类型\n",
        "z = np.zeros((2,2), dtype = [('x', 'i4'), ('y', 'i4')])  \n",
        "print(z)"
      ],
      "metadata": {
        "colab": {
          "base_uri": "https://localhost:8080/"
        },
        "id": "E0uakCkaIwJ6",
        "outputId": "58a438dd-fa21-459f-9000-f98919397008"
      },
      "execution_count": null,
      "outputs": [
        {
          "output_type": "stream",
          "name": "stdout",
          "text": [
            "[0. 0. 0. 0. 0.]\n",
            "[0 0 0 0 0]\n",
            "[[(0, 0) (0, 0)]\n",
            " [(0, 0) (0, 0)]]\n"
          ]
        }
      ]
    },
    {
      "cell_type": "code",
      "source": [
        "a=np.array([10,20,30,40])\n",
        "b=np.arange(4)\n",
        "print(a+b)\n",
        "c=b+a\n",
        "c=10*np.tan(a)\n",
        "print(c**2)\n",
        "\n",
        "print(b<3)\n",
        "\n"
      ],
      "metadata": {
        "id": "oIzriQf3mOhL",
        "colab": {
          "base_uri": "https://localhost:8080/"
        },
        "outputId": "cec896a7-4ccd-49ae-c68c-1ac124834615"
      },
      "execution_count": 26,
      "outputs": [
        {
          "output_type": "stream",
          "name": "stdout",
          "text": [
            "[10 21 32 43]\n",
            "[  42.03717626  500.48890904 4102.82677387  124.81692019]\n",
            "[ True  True  True False]\n"
          ]
        }
      ]
    },
    {
      "cell_type": "code",
      "source": [
        "a=np.random.random((2,4))\n",
        "\n",
        "print(np.sum(a))\n",
        "\n",
        "print(np.max(a))\n"
      ],
      "metadata": {
        "colab": {
          "base_uri": "https://localhost:8080/"
        },
        "id": "TTG_YDcaty3G",
        "outputId": "3a265961-eea9-4a34-f02b-8c7ac4d34576"
      },
      "execution_count": 27,
      "outputs": [
        {
          "output_type": "stream",
          "name": "stdout",
          "text": [
            "5.45545970960463\n",
            "0.9830821408777112\n"
          ]
        }
      ]
    }
  ]
}